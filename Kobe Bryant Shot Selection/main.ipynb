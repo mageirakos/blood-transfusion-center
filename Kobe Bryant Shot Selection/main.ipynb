{
 "cells": [
  {
   "cell_type": "markdown",
   "metadata": {},
   "source": [
    "This data contains the location and circumstances of every field goal attempted by Kobe Bryant took during his 20-year career. Your task is to predict whether the basket went in (shot_made_flag).\n",
    "\n",
    "We have removed 5000 of the shot_made_flags (represented as missing values in the csv file). These are the test set shots for which you must submit a prediction. You are provided a sample submission file with the correct shot_ids needed for a valid prediction.  \n",
    "  \n",
    "To avoid leakage, your method should only train on events that occurred prior to the shot for which you are predicting! Since   this is a playground competition with public answers, it's up to you to abide by this rule.  \n",
    "  \n",
    "The field names are self explanatory and contain the following attributes:  \n",
    "  \n",
    "action_type  \n",
    "combined_shot_type  \n",
    "game_event_id  \n",
    "game_id  \n",
    "lat  \n",
    "loc_x  \n",
    "loc_y  \n",
    "lon  \n",
    "minutes_remaining  \n",
    "period  \n",
    "playoffs  \n",
    "season   \n",
    "seconds_remaining  -> from the minute we are in  \n",
    "shot_distance  \n",
    "shot_made_flag (this is what you are predicting)  \n",
    "shot_type  \n",
    "shot_zone_area  \n",
    "shot_zone_basic  \n",
    "shot_zone_range  \n",
    "team_id  \n",
    "team_name  \n",
    "game_date  \n",
    "matchup  \n",
    "opponent    \n",
    "shot_id    "
   ]
  },
  {
   "cell_type": "code",
   "execution_count": 16,
   "metadata": {},
   "outputs": [],
   "source": [
    "import pandas as pd\n",
    "import matplotlib.pyplot as plt\n",
    "import seaborn as sns\n",
    "import numpy as np\n",
    "%matplotlib inline"
   ]
  },
  {
   "cell_type": "code",
   "execution_count": 17,
   "metadata": {},
   "outputs": [],
   "source": [
    "data = pd.read_csv(\"data.csv\")"
   ]
  },
  {
   "cell_type": "code",
   "execution_count": 18,
   "metadata": {},
   "outputs": [
    {
     "data": {
      "text/html": [
       "<div>\n",
       "<style scoped>\n",
       "    .dataframe tbody tr th:only-of-type {\n",
       "        vertical-align: middle;\n",
       "    }\n",
       "\n",
       "    .dataframe tbody tr th {\n",
       "        vertical-align: top;\n",
       "    }\n",
       "\n",
       "    .dataframe thead th {\n",
       "        text-align: right;\n",
       "    }\n",
       "</style>\n",
       "<table border=\"1\" class=\"dataframe\">\n",
       "  <thead>\n",
       "    <tr style=\"text-align: right;\">\n",
       "      <th></th>\n",
       "      <th>0</th>\n",
       "      <th>1</th>\n",
       "      <th>2</th>\n",
       "      <th>3</th>\n",
       "      <th>4</th>\n",
       "    </tr>\n",
       "  </thead>\n",
       "  <tbody>\n",
       "    <tr>\n",
       "      <th>action_type</th>\n",
       "      <td>Jump Shot</td>\n",
       "      <td>Jump Shot</td>\n",
       "      <td>Jump Shot</td>\n",
       "      <td>Jump Shot</td>\n",
       "      <td>Driving Dunk Shot</td>\n",
       "    </tr>\n",
       "    <tr>\n",
       "      <th>combined_shot_type</th>\n",
       "      <td>Jump Shot</td>\n",
       "      <td>Jump Shot</td>\n",
       "      <td>Jump Shot</td>\n",
       "      <td>Jump Shot</td>\n",
       "      <td>Dunk</td>\n",
       "    </tr>\n",
       "    <tr>\n",
       "      <th>game_event_id</th>\n",
       "      <td>10</td>\n",
       "      <td>12</td>\n",
       "      <td>35</td>\n",
       "      <td>43</td>\n",
       "      <td>155</td>\n",
       "    </tr>\n",
       "    <tr>\n",
       "      <th>game_id</th>\n",
       "      <td>20000012</td>\n",
       "      <td>20000012</td>\n",
       "      <td>20000012</td>\n",
       "      <td>20000012</td>\n",
       "      <td>20000012</td>\n",
       "    </tr>\n",
       "    <tr>\n",
       "      <th>lat</th>\n",
       "      <td>33.9723</td>\n",
       "      <td>34.0443</td>\n",
       "      <td>33.9093</td>\n",
       "      <td>33.8693</td>\n",
       "      <td>34.0443</td>\n",
       "    </tr>\n",
       "    <tr>\n",
       "      <th>loc_x</th>\n",
       "      <td>167</td>\n",
       "      <td>-157</td>\n",
       "      <td>-101</td>\n",
       "      <td>138</td>\n",
       "      <td>0</td>\n",
       "    </tr>\n",
       "    <tr>\n",
       "      <th>loc_y</th>\n",
       "      <td>72</td>\n",
       "      <td>0</td>\n",
       "      <td>135</td>\n",
       "      <td>175</td>\n",
       "      <td>0</td>\n",
       "    </tr>\n",
       "    <tr>\n",
       "      <th>lon</th>\n",
       "      <td>-118.103</td>\n",
       "      <td>-118.427</td>\n",
       "      <td>-118.371</td>\n",
       "      <td>-118.132</td>\n",
       "      <td>-118.27</td>\n",
       "    </tr>\n",
       "    <tr>\n",
       "      <th>minutes_remaining</th>\n",
       "      <td>10</td>\n",
       "      <td>10</td>\n",
       "      <td>7</td>\n",
       "      <td>6</td>\n",
       "      <td>6</td>\n",
       "    </tr>\n",
       "    <tr>\n",
       "      <th>period</th>\n",
       "      <td>1</td>\n",
       "      <td>1</td>\n",
       "      <td>1</td>\n",
       "      <td>1</td>\n",
       "      <td>2</td>\n",
       "    </tr>\n",
       "    <tr>\n",
       "      <th>playoffs</th>\n",
       "      <td>0</td>\n",
       "      <td>0</td>\n",
       "      <td>0</td>\n",
       "      <td>0</td>\n",
       "      <td>0</td>\n",
       "    </tr>\n",
       "    <tr>\n",
       "      <th>season</th>\n",
       "      <td>2000-01</td>\n",
       "      <td>2000-01</td>\n",
       "      <td>2000-01</td>\n",
       "      <td>2000-01</td>\n",
       "      <td>2000-01</td>\n",
       "    </tr>\n",
       "    <tr>\n",
       "      <th>seconds_remaining</th>\n",
       "      <td>27</td>\n",
       "      <td>22</td>\n",
       "      <td>45</td>\n",
       "      <td>52</td>\n",
       "      <td>19</td>\n",
       "    </tr>\n",
       "    <tr>\n",
       "      <th>shot_distance</th>\n",
       "      <td>18</td>\n",
       "      <td>15</td>\n",
       "      <td>16</td>\n",
       "      <td>22</td>\n",
       "      <td>0</td>\n",
       "    </tr>\n",
       "    <tr>\n",
       "      <th>shot_made_flag</th>\n",
       "      <td>NaN</td>\n",
       "      <td>0</td>\n",
       "      <td>1</td>\n",
       "      <td>0</td>\n",
       "      <td>1</td>\n",
       "    </tr>\n",
       "    <tr>\n",
       "      <th>shot_type</th>\n",
       "      <td>2PT Field Goal</td>\n",
       "      <td>2PT Field Goal</td>\n",
       "      <td>2PT Field Goal</td>\n",
       "      <td>2PT Field Goal</td>\n",
       "      <td>2PT Field Goal</td>\n",
       "    </tr>\n",
       "    <tr>\n",
       "      <th>shot_zone_area</th>\n",
       "      <td>Right Side(R)</td>\n",
       "      <td>Left Side(L)</td>\n",
       "      <td>Left Side Center(LC)</td>\n",
       "      <td>Right Side Center(RC)</td>\n",
       "      <td>Center(C)</td>\n",
       "    </tr>\n",
       "    <tr>\n",
       "      <th>shot_zone_basic</th>\n",
       "      <td>Mid-Range</td>\n",
       "      <td>Mid-Range</td>\n",
       "      <td>Mid-Range</td>\n",
       "      <td>Mid-Range</td>\n",
       "      <td>Restricted Area</td>\n",
       "    </tr>\n",
       "    <tr>\n",
       "      <th>shot_zone_range</th>\n",
       "      <td>16-24 ft.</td>\n",
       "      <td>8-16 ft.</td>\n",
       "      <td>16-24 ft.</td>\n",
       "      <td>16-24 ft.</td>\n",
       "      <td>Less Than 8 ft.</td>\n",
       "    </tr>\n",
       "    <tr>\n",
       "      <th>team_id</th>\n",
       "      <td>1610612747</td>\n",
       "      <td>1610612747</td>\n",
       "      <td>1610612747</td>\n",
       "      <td>1610612747</td>\n",
       "      <td>1610612747</td>\n",
       "    </tr>\n",
       "    <tr>\n",
       "      <th>team_name</th>\n",
       "      <td>Los Angeles Lakers</td>\n",
       "      <td>Los Angeles Lakers</td>\n",
       "      <td>Los Angeles Lakers</td>\n",
       "      <td>Los Angeles Lakers</td>\n",
       "      <td>Los Angeles Lakers</td>\n",
       "    </tr>\n",
       "    <tr>\n",
       "      <th>game_date</th>\n",
       "      <td>2000-10-31</td>\n",
       "      <td>2000-10-31</td>\n",
       "      <td>2000-10-31</td>\n",
       "      <td>2000-10-31</td>\n",
       "      <td>2000-10-31</td>\n",
       "    </tr>\n",
       "    <tr>\n",
       "      <th>matchup</th>\n",
       "      <td>LAL @ POR</td>\n",
       "      <td>LAL @ POR</td>\n",
       "      <td>LAL @ POR</td>\n",
       "      <td>LAL @ POR</td>\n",
       "      <td>LAL @ POR</td>\n",
       "    </tr>\n",
       "    <tr>\n",
       "      <th>opponent</th>\n",
       "      <td>POR</td>\n",
       "      <td>POR</td>\n",
       "      <td>POR</td>\n",
       "      <td>POR</td>\n",
       "      <td>POR</td>\n",
       "    </tr>\n",
       "    <tr>\n",
       "      <th>shot_id</th>\n",
       "      <td>1</td>\n",
       "      <td>2</td>\n",
       "      <td>3</td>\n",
       "      <td>4</td>\n",
       "      <td>5</td>\n",
       "    </tr>\n",
       "  </tbody>\n",
       "</table>\n",
       "</div>"
      ],
      "text/plain": [
       "                                     0                   1  \\\n",
       "action_type                  Jump Shot           Jump Shot   \n",
       "combined_shot_type           Jump Shot           Jump Shot   \n",
       "game_event_id                       10                  12   \n",
       "game_id                       20000012            20000012   \n",
       "lat                            33.9723             34.0443   \n",
       "loc_x                              167                -157   \n",
       "loc_y                               72                   0   \n",
       "lon                           -118.103            -118.427   \n",
       "minutes_remaining                   10                  10   \n",
       "period                               1                   1   \n",
       "playoffs                             0                   0   \n",
       "season                         2000-01             2000-01   \n",
       "seconds_remaining                   27                  22   \n",
       "shot_distance                       18                  15   \n",
       "shot_made_flag                     NaN                   0   \n",
       "shot_type               2PT Field Goal      2PT Field Goal   \n",
       "shot_zone_area           Right Side(R)        Left Side(L)   \n",
       "shot_zone_basic              Mid-Range           Mid-Range   \n",
       "shot_zone_range              16-24 ft.            8-16 ft.   \n",
       "team_id                     1610612747          1610612747   \n",
       "team_name           Los Angeles Lakers  Los Angeles Lakers   \n",
       "game_date                   2000-10-31          2000-10-31   \n",
       "matchup                      LAL @ POR           LAL @ POR   \n",
       "opponent                           POR                 POR   \n",
       "shot_id                              1                   2   \n",
       "\n",
       "                                       2                      3  \\\n",
       "action_type                    Jump Shot              Jump Shot   \n",
       "combined_shot_type             Jump Shot              Jump Shot   \n",
       "game_event_id                         35                     43   \n",
       "game_id                         20000012               20000012   \n",
       "lat                              33.9093                33.8693   \n",
       "loc_x                               -101                    138   \n",
       "loc_y                                135                    175   \n",
       "lon                             -118.371               -118.132   \n",
       "minutes_remaining                      7                      6   \n",
       "period                                 1                      1   \n",
       "playoffs                               0                      0   \n",
       "season                           2000-01                2000-01   \n",
       "seconds_remaining                     45                     52   \n",
       "shot_distance                         16                     22   \n",
       "shot_made_flag                         1                      0   \n",
       "shot_type                 2PT Field Goal         2PT Field Goal   \n",
       "shot_zone_area      Left Side Center(LC)  Right Side Center(RC)   \n",
       "shot_zone_basic                Mid-Range              Mid-Range   \n",
       "shot_zone_range                16-24 ft.              16-24 ft.   \n",
       "team_id                       1610612747             1610612747   \n",
       "team_name             Los Angeles Lakers     Los Angeles Lakers   \n",
       "game_date                     2000-10-31             2000-10-31   \n",
       "matchup                        LAL @ POR              LAL @ POR   \n",
       "opponent                             POR                    POR   \n",
       "shot_id                                3                      4   \n",
       "\n",
       "                                     4  \n",
       "action_type          Driving Dunk Shot  \n",
       "combined_shot_type                Dunk  \n",
       "game_event_id                      155  \n",
       "game_id                       20000012  \n",
       "lat                            34.0443  \n",
       "loc_x                                0  \n",
       "loc_y                                0  \n",
       "lon                            -118.27  \n",
       "minutes_remaining                    6  \n",
       "period                               2  \n",
       "playoffs                             0  \n",
       "season                         2000-01  \n",
       "seconds_remaining                   19  \n",
       "shot_distance                        0  \n",
       "shot_made_flag                       1  \n",
       "shot_type               2PT Field Goal  \n",
       "shot_zone_area               Center(C)  \n",
       "shot_zone_basic        Restricted Area  \n",
       "shot_zone_range        Less Than 8 ft.  \n",
       "team_id                     1610612747  \n",
       "team_name           Los Angeles Lakers  \n",
       "game_date                   2000-10-31  \n",
       "matchup                      LAL @ POR  \n",
       "opponent                           POR  \n",
       "shot_id                              5  "
      ]
     },
     "execution_count": 18,
     "metadata": {},
     "output_type": "execute_result"
    }
   ],
   "source": [
    "data.head().T"
   ]
  },
  {
   "cell_type": "markdown",
   "metadata": {},
   "source": [
    "I should turn game_date to a datetime object and create a column to represent the day of the week the game was playied because that might be something that affects Kobes accuracy"
   ]
  },
  {
   "cell_type": "code",
   "execution_count": 19,
   "metadata": {},
   "outputs": [
    {
     "data": {
      "text/plain": [
       "<matplotlib.axes._subplots.AxesSubplot at 0x253be2f4550>"
      ]
     },
     "execution_count": 19,
     "metadata": {},
     "output_type": "execute_result"
    },
    {
     "data": {
      "image/png": "[encoded data removed]",
      "text/plain": [
       "<Figure size 432x288 with 1 Axes>"
      ]
     },
     "metadata": {
      "needs_background": "light"
     },
     "output_type": "display_data"
    }
   ],
   "source": [
    "sns.heatmap(data.isnull(),yticklabels=False,cbar=False,cmap='viridis')"
   ]
  },
  {
   "cell_type": "code",
   "execution_count": 20,
   "metadata": {},
   "outputs": [],
   "source": [
    "#drop rows with na values in the target feature and reset the index so we dont have anything missing\n",
    "data = data[data['shot_made_flag'].notnull()].reset_index() "
   ]
  },
  {
   "cell_type": "code",
   "execution_count": 21,
   "metadata": {},
   "outputs": [],
   "source": [
    "data['game_date'] = pd.to_datetime(data['game_date'])\n",
    "data['game_day'] = data['game_date'].apply(lambda x: x.weekday()) ## 0 is Monday, 1 is Tuesday .... 7 is Sunday"
   ]
  },
  {
   "cell_type": "markdown",
   "metadata": {},
   "source": [
    "I am going to use \"minutes_remaining\", \"seconds_remaining\" and \"period\" to create some additional features to have an easier grasp of the time"
   ]
  },
  {
   "cell_type": "code",
   "execution_count": 22,
   "metadata": {},
   "outputs": [
    {
     "data": {
      "text/plain": [
       "array([1, 2, 3, 4, 5, 6, 7], dtype=int64)"
      ]
     },
     "execution_count": 22,
     "metadata": {},
     "output_type": "execute_result"
    }
   ],
   "source": [
    "data['period'].unique()"
   ]
  },
  {
   "cell_type": "code",
   "execution_count": 23,
   "metadata": {},
   "outputs": [],
   "source": [
    "# 12 minutes per period but it is a countdown so we subtract from 11\n",
    "data['minutes_from_period_start'] = 11 - data['minutes_remaining']\n",
    "data['seconds_from_period_start'] = 60*data['minutes_from_period_start'] + (60 - data['seconds_remaining']) \n",
    "# Simple Logic\n",
    "data['minutes_from_game_start'] = (data['period'] <= 4).astype(int)*((data['period'] - 1 )*12 + data['minutes_from_period_start']) \\\n",
    "+ (data['period'] > 4).astype(int)*((data['period'] - 5)*6 + 4*12 + data['minutes_from_period_start'])\n",
    "data['seconds_from_game_start'] = (data['period'] <= 4).astype(int)*((data['period'] - 1 )*12*60 + data['seconds_from_period_start']) \\\n",
    "+ (data['period'] > 4).astype(int)*((data['period'] - 5)*6*60 + 4*12*60 + data['minutes_from_period_start'])"
   ]
  },
  {
   "cell_type": "code",
   "execution_count": 24,
   "metadata": {},
   "outputs": [
    {
     "data": {
      "text/html": [
       "<div>\n",
       "<style scoped>\n",
       "    .dataframe tbody tr th:only-of-type {\n",
       "        vertical-align: middle;\n",
       "    }\n",
       "\n",
       "    .dataframe tbody tr th {\n",
       "        vertical-align: top;\n",
       "    }\n",
       "\n",
       "    .dataframe thead th {\n",
       "        text-align: right;\n",
       "    }\n",
       "</style>\n",
       "<table border=\"1\" class=\"dataframe\">\n",
       "  <thead>\n",
       "    <tr style=\"text-align: right;\">\n",
       "      <th></th>\n",
       "      <th>period</th>\n",
       "      <th>minutes_remaining</th>\n",
       "      <th>seconds_remaining</th>\n",
       "      <th>minutes_from_period_start</th>\n",
       "      <th>seconds_from_period_start</th>\n",
       "      <th>minutes_from_game_start</th>\n",
       "      <th>seconds_from_game_start</th>\n",
       "    </tr>\n",
       "  </thead>\n",
       "  <tbody>\n",
       "    <tr>\n",
       "      <th>0</th>\n",
       "      <td>1</td>\n",
       "      <td>10</td>\n",
       "      <td>22</td>\n",
       "      <td>1</td>\n",
       "      <td>98</td>\n",
       "      <td>1</td>\n",
       "      <td>98</td>\n",
       "    </tr>\n",
       "    <tr>\n",
       "      <th>1</th>\n",
       "      <td>1</td>\n",
       "      <td>7</td>\n",
       "      <td>45</td>\n",
       "      <td>4</td>\n",
       "      <td>255</td>\n",
       "      <td>4</td>\n",
       "      <td>255</td>\n",
       "    </tr>\n",
       "    <tr>\n",
       "      <th>2</th>\n",
       "      <td>1</td>\n",
       "      <td>6</td>\n",
       "      <td>52</td>\n",
       "      <td>5</td>\n",
       "      <td>308</td>\n",
       "      <td>5</td>\n",
       "      <td>308</td>\n",
       "    </tr>\n",
       "    <tr>\n",
       "      <th>3</th>\n",
       "      <td>2</td>\n",
       "      <td>6</td>\n",
       "      <td>19</td>\n",
       "      <td>5</td>\n",
       "      <td>341</td>\n",
       "      <td>17</td>\n",
       "      <td>1061</td>\n",
       "    </tr>\n",
       "    <tr>\n",
       "      <th>4</th>\n",
       "      <td>3</td>\n",
       "      <td>9</td>\n",
       "      <td>32</td>\n",
       "      <td>2</td>\n",
       "      <td>148</td>\n",
       "      <td>26</td>\n",
       "      <td>1588</td>\n",
       "    </tr>\n",
       "  </tbody>\n",
       "</table>\n",
       "</div>"
      ],
      "text/plain": [
       "   period  minutes_remaining  seconds_remaining  minutes_from_period_start  \\\n",
       "0       1                 10                 22                          1   \n",
       "1       1                  7                 45                          4   \n",
       "2       1                  6                 52                          5   \n",
       "3       2                  6                 19                          5   \n",
       "4       3                  9                 32                          2   \n",
       "\n",
       "   seconds_from_period_start  minutes_from_game_start  seconds_from_game_start  \n",
       "0                         98                        1                       98  \n",
       "1                        255                        4                      255  \n",
       "2                        308                        5                      308  \n",
       "3                        341                       17                     1061  \n",
       "4                        148                       26                     1588  "
      ]
     },
     "execution_count": 24,
     "metadata": {},
     "output_type": "execute_result"
    }
   ],
   "source": [
    "#sample and check if the new features added are correct ( compare 'period' with 'minutes_from_*_start' )\n",
    "data[['period','minutes_remaining','seconds_remaining','minutes_from_period_start','seconds_from_period_start','minutes_from_game_start','seconds_from_game_start']].head()"
   ]
  },
  {
   "cell_type": "code",
   "execution_count": 25,
   "metadata": {},
   "outputs": [
    {
     "name": "stdout",
     "output_type": "stream",
     "text": [
      "<class 'pandas.core.frame.DataFrame'>\n",
      "RangeIndex: 25697 entries, 0 to 25696\n",
      "Data columns (total 31 columns):\n",
      "index                        25697 non-null int64\n",
      "action_type                  25697 non-null object\n",
      "combined_shot_type           25697 non-null object\n",
      "game_event_id                25697 non-null int64\n",
      "game_id                      25697 non-null int64\n",
      "lat                          25697 non-null float64\n",
      "loc_x                        25697 non-null int64\n",
      "loc_y                        25697 non-null int64\n",
      "lon                          25697 non-null float64\n",
      "minutes_remaining            25697 non-null int64\n",
      "period                       25697 non-null int64\n",
      "playoffs                     25697 non-null int64\n",
      "season                       25697 non-null object\n",
      "seconds_remaining            25697 non-null int64\n",
      "shot_distance                25697 non-null int64\n",
      "shot_made_flag               25697 non-null float64\n",
      "shot_type                    25697 non-null object\n",
      "shot_zone_area               25697 non-null object\n",
      "shot_zone_basic              25697 non-null object\n",
      "shot_zone_range              25697 non-null object\n",
      "team_id                      25697 non-null int64\n",
      "team_name                    25697 non-null object\n",
      "game_date                    25697 non-null datetime64[ns]\n",
      "matchup                      25697 non-null object\n",
      "opponent                     25697 non-null object\n",
      "shot_id                      25697 non-null int64\n",
      "game_day                     25697 non-null int64\n",
      "minutes_from_period_start    25697 non-null int64\n",
      "seconds_from_period_start    25697 non-null int64\n",
      "minutes_from_game_start      25697 non-null int64\n",
      "seconds_from_game_start      25697 non-null int64\n",
      "dtypes: datetime64[ns](1), float64(3), int64(17), object(10)\n",
      "memory usage: 6.1+ MB\n"
     ]
    }
   ],
   "source": [
    "data.info()"
   ]
  },
  {
   "cell_type": "markdown",
   "metadata": {},
   "source": [
    "plots"
   ]
  },
  {
   "cell_type": "code",
   "execution_count": 26,
   "metadata": {},
   "outputs": [],
   "source": [
    "data['shot_made_flag'] = data['shot_made_flag'].astype(int)"
   ]
  },
  {
   "cell_type": "code",
   "execution_count": 138,
   "metadata": {},
   "outputs": [
    {
     "data": {
      "text/plain": [
       "<matplotlib.axes._subplots.AxesSubplot at 0x253cb4d92e8>"
      ]
     },
     "execution_count": 138,
     "metadata": {},
     "output_type": "execute_result"
    },
    {
     "data": {
      "image/png": "[encoded data removed]",
      "text/plain": [
       "<Figure size 432x288 with 1 Axes>"
      ]
     },
     "metadata": {
      "needs_background": "light"
     },
     "output_type": "display_data"
    }
   ],
   "source": [
    "sns.countplot(data=data,x='shot_made_flag')"
   ]
  },
  {
   "cell_type": "code",
   "execution_count": 225,
   "metadata": {},
   "outputs": [],
   "source": [
    "time_bins = np.arange(0,60*(4*12+3*5),20)+0.01 #20 means that every 20 seconds there is a bin"
   ]
  },
  {
   "cell_type": "code",
   "execution_count": 226,
   "metadata": {},
   "outputs": [],
   "source": [
    "x = np.arange(0,1880,10)"
   ]
  },
  {
   "cell_type": "code",
   "execution_count": 231,
   "metadata": {},
   "outputs": [
    {
     "data": {
      "text/plain": [
       "[<matplotlib.lines.Line2D at 0x253cc1e2c88>]"
      ]
     },
     "execution_count": 231,
     "metadata": {},
     "output_type": "execute_result"
    },
    {
     "data": {
      "image/png": "[encoded data removed]",
      "text/plain": [
       "<Figure size 432x288 with 1 Axes>"
      ]
     },
     "metadata": {
      "needs_background": "light"
     },
     "output_type": "display_data"
    }
   ],
   "source": [
    "plt.plot(time_bins[1:],attemptsAsFunctionOfTime)"
   ]
  },
  {
   "cell_type": "markdown",
   "metadata": {},
   "source": [
    "lets plot the shooting attemps as a function of time"
   ]
  },
  {
   "cell_type": "code",
   "execution_count": 264,
   "metadata": {},
   "outputs": [],
   "source": [
    "time_bins = np.arange(0,60*(4*12+3*5),24)+0.01 #20 means that every 20 seconds there is a bin"
   ]
  },
  {
   "cell_type": "code",
   "execution_count": 265,
   "metadata": {},
   "outputs": [],
   "source": [
    "attemptsAsFunctionOfTime, b = np.histogram(data['seconds_from_game_start'],bins=time_bins)"
   ]
  },
  {
   "cell_type": "code",
   "execution_count": 266,
   "metadata": {},
   "outputs": [],
   "source": [
    "barWidth = 0.999*(time_bins[1]-time_bins[0])"
   ]
  },
  {
   "cell_type": "code",
   "execution_count": 267,
   "metadata": {},
   "outputs": [
    {
     "ename": "ValueError",
     "evalue": "shape mismatch: objects cannot be broadcast to a single shape",
     "output_type": "error",
     "traceback": [
      "\u001b[1;31m---------------------------------------------------------------------------\u001b[0m",
      "\u001b[1;31mValueError\u001b[0m                                Traceback (most recent call last)",
      "\u001b[1;32m<ipython-input-267-01ff1583a5b8>\u001b[0m in \u001b[0;36m<module>\u001b[1;34m()\u001b[0m\n\u001b[1;32m----> 1\u001b[1;33m \u001b[0mplt\u001b[0m\u001b[1;33m.\u001b[0m\u001b[0mbar\u001b[0m\u001b[1;33m(\u001b[0m\u001b[0mtimeBins\u001b[0m\u001b[1;33m[\u001b[0m\u001b[1;33m:\u001b[0m\u001b[1;33m-\u001b[0m\u001b[1;36m1\u001b[0m\u001b[1;33m]\u001b[0m\u001b[1;33m,\u001b[0m\u001b[0mattemptsAsFunctionOfTime\u001b[0m\u001b[1;33m,\u001b[0m          \u001b[0malign\u001b[0m\u001b[1;33m=\u001b[0m\u001b[1;34m'edge'\u001b[0m\u001b[1;33m,\u001b[0m \u001b[0mwidth\u001b[0m\u001b[1;33m=\u001b[0m\u001b[0mbarWidth\u001b[0m\u001b[1;33m)\u001b[0m\u001b[1;33m\u001b[0m\u001b[0m\n\u001b[0m",
      "\u001b[1;32m~\\Anaconda3\\lib\\site-packages\\matplotlib\\pyplot.py\u001b[0m in \u001b[0;36mbar\u001b[1;34m(*args, **kwargs)\u001b[0m\n\u001b[0;32m   2773\u001b[0m                       mplDeprecation)\n\u001b[0;32m   2774\u001b[0m     \u001b[1;32mtry\u001b[0m\u001b[1;33m:\u001b[0m\u001b[1;33m\u001b[0m\u001b[0m\n\u001b[1;32m-> 2775\u001b[1;33m         \u001b[0mret\u001b[0m \u001b[1;33m=\u001b[0m \u001b[0max\u001b[0m\u001b[1;33m.\u001b[0m\u001b[0mbar\u001b[0m\u001b[1;33m(\u001b[0m\u001b[1;33m*\u001b[0m\u001b[0margs\u001b[0m\u001b[1;33m,\u001b[0m \u001b[1;33m**\u001b[0m\u001b[0mkwargs\u001b[0m\u001b[1;33m)\u001b[0m\u001b[1;33m\u001b[0m\u001b[0m\n\u001b[0m\u001b[0;32m   2776\u001b[0m     \u001b[1;32mfinally\u001b[0m\u001b[1;33m:\u001b[0m\u001b[1;33m\u001b[0m\u001b[0m\n\u001b[0;32m   2777\u001b[0m         \u001b[0max\u001b[0m\u001b[1;33m.\u001b[0m\u001b[0m_hold\u001b[0m \u001b[1;33m=\u001b[0m \u001b[0mwashold\u001b[0m\u001b[1;33m\u001b[0m\u001b[0m\n",
      "\u001b[1;32m~\\Anaconda3\\lib\\site-packages\\matplotlib\\__init__.py\u001b[0m in \u001b[0;36minner\u001b[1;34m(ax, *args, **kwargs)\u001b[0m\n\u001b[0;32m   1865\u001b[0m                         \u001b[1;34m\"the Matplotlib list!)\"\u001b[0m \u001b[1;33m%\u001b[0m \u001b[1;33m(\u001b[0m\u001b[0mlabel_namer\u001b[0m\u001b[1;33m,\u001b[0m \u001b[0mfunc\u001b[0m\u001b[1;33m.\u001b[0m\u001b[0m__name__\u001b[0m\u001b[1;33m)\u001b[0m\u001b[1;33m,\u001b[0m\u001b[1;33m\u001b[0m\u001b[0m\n\u001b[0;32m   1866\u001b[0m                         RuntimeWarning, stacklevel=2)\n\u001b[1;32m-> 1867\u001b[1;33m             \u001b[1;32mreturn\u001b[0m \u001b[0mfunc\u001b[0m\u001b[1;33m(\u001b[0m\u001b[0max\u001b[0m\u001b[1;33m,\u001b[0m \u001b[1;33m*\u001b[0m\u001b[0margs\u001b[0m\u001b[1;33m,\u001b[0m \u001b[1;33m**\u001b[0m\u001b[0mkwargs\u001b[0m\u001b[1;33m)\u001b[0m\u001b[1;33m\u001b[0m\u001b[0m\n\u001b[0m\u001b[0;32m   1868\u001b[0m \u001b[1;33m\u001b[0m\u001b[0m\n\u001b[0;32m   1869\u001b[0m         inner.__doc__ = _add_data_doc(inner.__doc__,\n",
      "\u001b[1;32m~\\Anaconda3\\lib\\site-packages\\matplotlib\\axes\\_axes.py\u001b[0m in \u001b[0;36mbar\u001b[1;34m(self, *args, **kwargs)\u001b[0m\n\u001b[0;32m   2236\u001b[0m         x, height, width, y, linewidth = np.broadcast_arrays(\n\u001b[0;32m   2237\u001b[0m             \u001b[1;31m# Make args iterable too.\u001b[0m\u001b[1;33m\u001b[0m\u001b[1;33m\u001b[0m\u001b[0m\n\u001b[1;32m-> 2238\u001b[1;33m             np.atleast_1d(x), height, width, y, linewidth)\n\u001b[0m\u001b[0;32m   2239\u001b[0m \u001b[1;33m\u001b[0m\u001b[0m\n\u001b[0;32m   2240\u001b[0m         \u001b[1;31m# Now that units have been converted, set the tick locations.\u001b[0m\u001b[1;33m\u001b[0m\u001b[1;33m\u001b[0m\u001b[0m\n",
      "\u001b[1;32m~\\Anaconda3\\lib\\site-packages\\numpy\\lib\\stride_tricks.py\u001b[0m in \u001b[0;36mbroadcast_arrays\u001b[1;34m(*args, **kwargs)\u001b[0m\n\u001b[0;32m    250\u001b[0m     \u001b[0margs\u001b[0m \u001b[1;33m=\u001b[0m \u001b[1;33m[\u001b[0m\u001b[0mnp\u001b[0m\u001b[1;33m.\u001b[0m\u001b[0marray\u001b[0m\u001b[1;33m(\u001b[0m\u001b[0m_m\u001b[0m\u001b[1;33m,\u001b[0m \u001b[0mcopy\u001b[0m\u001b[1;33m=\u001b[0m\u001b[1;32mFalse\u001b[0m\u001b[1;33m,\u001b[0m \u001b[0msubok\u001b[0m\u001b[1;33m=\u001b[0m\u001b[0msubok\u001b[0m\u001b[1;33m)\u001b[0m \u001b[1;32mfor\u001b[0m \u001b[0m_m\u001b[0m \u001b[1;32min\u001b[0m \u001b[0margs\u001b[0m\u001b[1;33m]\u001b[0m\u001b[1;33m\u001b[0m\u001b[0m\n\u001b[0;32m    251\u001b[0m \u001b[1;33m\u001b[0m\u001b[0m\n\u001b[1;32m--> 252\u001b[1;33m     \u001b[0mshape\u001b[0m \u001b[1;33m=\u001b[0m \u001b[0m_broadcast_shape\u001b[0m\u001b[1;33m(\u001b[0m\u001b[1;33m*\u001b[0m\u001b[0margs\u001b[0m\u001b[1;33m)\u001b[0m\u001b[1;33m\u001b[0m\u001b[0m\n\u001b[0m\u001b[0;32m    253\u001b[0m \u001b[1;33m\u001b[0m\u001b[0m\n\u001b[0;32m    254\u001b[0m     \u001b[1;32mif\u001b[0m \u001b[0mall\u001b[0m\u001b[1;33m(\u001b[0m\u001b[0marray\u001b[0m\u001b[1;33m.\u001b[0m\u001b[0mshape\u001b[0m \u001b[1;33m==\u001b[0m \u001b[0mshape\u001b[0m \u001b[1;32mfor\u001b[0m \u001b[0marray\u001b[0m \u001b[1;32min\u001b[0m \u001b[0margs\u001b[0m\u001b[1;33m)\u001b[0m\u001b[1;33m:\u001b[0m\u001b[1;33m\u001b[0m\u001b[0m\n",
      "\u001b[1;32m~\\Anaconda3\\lib\\site-packages\\numpy\\lib\\stride_tricks.py\u001b[0m in \u001b[0;36m_broadcast_shape\u001b[1;34m(*args)\u001b[0m\n\u001b[0;32m    185\u001b[0m     \u001b[1;31m# use the old-iterator because np.nditer does not handle size 0 arrays\u001b[0m\u001b[1;33m\u001b[0m\u001b[1;33m\u001b[0m\u001b[0m\n\u001b[0;32m    186\u001b[0m     \u001b[1;31m# consistently\u001b[0m\u001b[1;33m\u001b[0m\u001b[1;33m\u001b[0m\u001b[0m\n\u001b[1;32m--> 187\u001b[1;33m     \u001b[0mb\u001b[0m \u001b[1;33m=\u001b[0m \u001b[0mnp\u001b[0m\u001b[1;33m.\u001b[0m\u001b[0mbroadcast\u001b[0m\u001b[1;33m(\u001b[0m\u001b[1;33m*\u001b[0m\u001b[0margs\u001b[0m\u001b[1;33m[\u001b[0m\u001b[1;33m:\u001b[0m\u001b[1;36m32\u001b[0m\u001b[1;33m]\u001b[0m\u001b[1;33m)\u001b[0m\u001b[1;33m\u001b[0m\u001b[0m\n\u001b[0m\u001b[0;32m    188\u001b[0m     \u001b[1;31m# unfortunately, it cannot handle 32 or more arguments directly\u001b[0m\u001b[1;33m\u001b[0m\u001b[1;33m\u001b[0m\u001b[0m\n\u001b[0;32m    189\u001b[0m     \u001b[1;32mfor\u001b[0m \u001b[0mpos\u001b[0m \u001b[1;32min\u001b[0m \u001b[0mrange\u001b[0m\u001b[1;33m(\u001b[0m\u001b[1;36m32\u001b[0m\u001b[1;33m,\u001b[0m \u001b[0mlen\u001b[0m\u001b[1;33m(\u001b[0m\u001b[0margs\u001b[0m\u001b[1;33m)\u001b[0m\u001b[1;33m,\u001b[0m \u001b[1;36m31\u001b[0m\u001b[1;33m)\u001b[0m\u001b[1;33m:\u001b[0m\u001b[1;33m\u001b[0m\u001b[0m\n",
      "\u001b[1;31mValueError\u001b[0m: shape mismatch: objects cannot be broadcast to a single shape"
     ]
    },
    {
     "data": {
      "image/png": "[encoded data removed]",
      "text/plain": [
       "<Figure size 432x288 with 1 Axes>"
      ]
     },
     "metadata": {
      "needs_background": "light"
     },
     "output_type": "display_data"
    }
   ],
   "source": [
    "plt.bar(timeBins[:-1],attemptsAsFunctionOfTime,\\\n",
    "          align='edge', width=barWidth)"
   ]
  },
  {
   "cell_type": "code",
   "execution_count": null,
   "metadata": {},
   "outputs": [],
   "source": []
  },
  {
   "cell_type": "code",
   "execution_count": null,
   "metadata": {},
   "outputs": [],
   "source": []
  },
  {
   "cell_type": "code",
   "execution_count": null,
   "metadata": {},
   "outputs": [],
   "source": []
  }
 ],
 "metadata": {
  "kernelspec": {
   "display_name": "Python 3",
   "language": "python",
   "name": "python3"
  },
  "language_info": {
   "codemirror_mode": {
    "name": "ipython",
    "version": 3
   },
   "file_extension": ".py",
   "mimetype": "text/x-python",
   "name": "python",
   "nbconvert_exporter": "python",
   "pygments_lexer": "ipython3",
   "version": "3.6.6"
  }
 },
 "nbformat": 4,
 "nbformat_minor": 2
}
